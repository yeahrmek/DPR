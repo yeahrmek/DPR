{
 "cells": [
  {
   "cell_type": "markdown",
   "id": "44665b35",
   "metadata": {},
   "source": [
    "## Загрузим необходимые данные"
   ]
  },
  {
   "cell_type": "code",
   "execution_count": 2,
   "id": "68d85d72",
   "metadata": {},
   "outputs": [],
   "source": [
    "from pathlib import Path\n",
    "import pandas as pd\n",
    "import json\n",
    "import jsonlines\n",
    "\n",
    "DATA_DIRECTORY = Path('./downloads/data/lean/')  # change as necessary"
   ]
  },
  {
   "cell_type": "code",
   "execution_count": 4,
   "id": "4e631c55-63bc-45c4-8e48-eed4828bbb69",
   "metadata": {},
   "outputs": [
    {
     "data": {
      "text/html": [
       "<div>\n",
       "<style scoped>\n",
       "    .dataframe tbody tr th:only-of-type {\n",
       "        vertical-align: middle;\n",
       "    }\n",
       "\n",
       "    .dataframe tbody tr th {\n",
       "        vertical-align: top;\n",
       "    }\n",
       "\n",
       "    .dataframe thead th {\n",
       "        text-align: right;\n",
       "    }\n",
       "</style>\n",
       "<table border=\"1\" class=\"dataframe\">\n",
       "  <thead>\n",
       "    <tr style=\"text-align: right;\">\n",
       "      <th></th>\n",
       "      <th>goal</th>\n",
       "      <th>tactic</th>\n",
       "      <th>decl</th>\n",
       "      <th>args_names</th>\n",
       "      <th>other_args</th>\n",
       "      <th>split</th>\n",
       "    </tr>\n",
       "  </thead>\n",
       "  <tbody>\n",
       "    <tr>\n",
       "      <th>0</th>\n",
       "      <td>α : Type u,\\n_inst_1 : inhabited α,\\ni b_fst :...</td>\n",
       "      <td>unfold read read'</td>\n",
       "      <td>buffer.read_eq_read'</td>\n",
       "      <td>buffer.read\\nbuffer.read'</td>\n",
       "      <td></td>\n",
       "      <td>test</td>\n",
       "    </tr>\n",
       "    <tr>\n",
       "      <th>1</th>\n",
       "      <td>α : Type u,\\n_inst_1 : inhabited α,\\ni b_fst :...</td>\n",
       "      <td>simp [array.read_eq_read']</td>\n",
       "      <td>buffer.read_eq_read'</td>\n",
       "      <td>array.read_eq_read'</td>\n",
       "      <td></td>\n",
       "      <td>test</td>\n",
       "    </tr>\n",
       "    <tr>\n",
       "      <th>2</th>\n",
       "      <td>α : Type u,\\n_inst_1 : inhabited α,\\nb : buffe...</td>\n",
       "      <td>cases b</td>\n",
       "      <td>buffer.read_eq_read'</td>\n",
       "      <td></td>\n",
       "      <td></td>\n",
       "      <td>test</td>\n",
       "    </tr>\n",
       "    <tr>\n",
       "      <th>3</th>\n",
       "      <td>α : Type u,\\ni : ℕ,\\nv : α,\\nb_fst : ℕ,\\nb_snd...</td>\n",
       "      <td>unfold write write'</td>\n",
       "      <td>buffer.write_eq_write'</td>\n",
       "      <td>buffer.write\\nbuffer.write'</td>\n",
       "      <td></td>\n",
       "      <td>train</td>\n",
       "    </tr>\n",
       "    <tr>\n",
       "      <th>4</th>\n",
       "      <td>α : Type u,\\ni : ℕ,\\nv : α,\\nb_fst : ℕ,\\nb_snd...</td>\n",
       "      <td>simp [array.write_eq_write']</td>\n",
       "      <td>buffer.write_eq_write'</td>\n",
       "      <td>array.write_eq_write'</td>\n",
       "      <td></td>\n",
       "      <td>train</td>\n",
       "    </tr>\n",
       "  </tbody>\n",
       "</table>\n",
       "</div>"
      ],
      "text/plain": [
       "                                                goal  \\\n",
       "0  α : Type u,\\n_inst_1 : inhabited α,\\ni b_fst :...   \n",
       "1  α : Type u,\\n_inst_1 : inhabited α,\\ni b_fst :...   \n",
       "2  α : Type u,\\n_inst_1 : inhabited α,\\nb : buffe...   \n",
       "3  α : Type u,\\ni : ℕ,\\nv : α,\\nb_fst : ℕ,\\nb_snd...   \n",
       "4  α : Type u,\\ni : ℕ,\\nv : α,\\nb_fst : ℕ,\\nb_snd...   \n",
       "\n",
       "                         tactic                    decl  \\\n",
       "0             unfold read read'    buffer.read_eq_read'   \n",
       "1    simp [array.read_eq_read']    buffer.read_eq_read'   \n",
       "2                       cases b    buffer.read_eq_read'   \n",
       "3           unfold write write'  buffer.write_eq_write'   \n",
       "4  simp [array.write_eq_write']  buffer.write_eq_write'   \n",
       "\n",
       "                    args_names other_args  split  \n",
       "0    buffer.read\\nbuffer.read'              test  \n",
       "1          array.read_eq_read'              test  \n",
       "2                                           test  \n",
       "3  buffer.write\\nbuffer.write'             train  \n",
       "4        array.write_eq_write'             train  "
      ]
     },
     "execution_count": 4,
     "metadata": {},
     "output_type": "execute_result"
    }
   ],
   "source": [
    "with open('../lean_data/all_lemmas_statements.json') as fh:\n",
    "    lemmas = json.load(fh)\n",
    "\n",
    "ds = pd.read_parquet(DATA_DIRECTORY / 'arguments_full_names.parquet')\n",
    "\n",
    "ds.head()"
   ]
  },
  {
   "cell_type": "code",
   "execution_count": 5,
   "id": "57fc919a",
   "metadata": {},
   "outputs": [
    {
     "data": {
      "text/plain": [
       "                                                114371\n",
       "rfl                                               3387\n",
       "rfl\\nrfl                                           473\n",
       "mul_comm                                           388\n",
       "refl                                               382\n",
       "                                                 ...  \n",
       "mv_polynomial.coeff_monomial\\nfinsupp.single         1\n",
       "mv_polynomial.monomial_eq                            1\n",
       "add_monoid_algebra.support_mul                       1\n",
       "mv_polynomial.support_monomial\\nif_neg               1\n",
       "option.some_injective\\noption.some_ne_none           1\n",
       "Name: args_names, Length: 43045, dtype: int64"
      ]
     },
     "execution_count": 5,
     "metadata": {},
     "output_type": "execute_result"
    }
   ],
   "source": [
    "ds['args_names'].value_counts()"
   ]
  },
  {
   "cell_type": "markdown",
   "id": "b815205b",
   "metadata": {},
   "source": [
    "Примерно в половине случаев отсутствуют аргументы."
   ]
  },
  {
   "cell_type": "markdown",
   "id": "5a5790a8",
   "metadata": {},
   "source": [
    "Колонка **goal** используется как `question`."
   ]
  },
  {
   "cell_type": "code",
   "execution_count": 6,
   "id": "c04bf995",
   "metadata": {},
   "outputs": [
    {
     "name": "stdout",
     "output_type": "stream",
     "text": [
      "def read : Π (b : buffer α), fin b.size → α\t| ⟨n, a⟩ i := a.read i\n",
      "def read' [inhabited α] : buffer α → nat → α\t| ⟨n, a⟩ i := a.read' i\n"
     ]
    }
   ],
   "source": [
    "args_names = ds['args_names'][0].split()\n",
    "\n",
    "args_statements = [lemmas[name] for name in args_names]\n",
    "for stm in args_statements:\n",
    "    print(stm)"
   ]
  },
  {
   "cell_type": "markdown",
   "id": "4c4b0b88",
   "metadata": {},
   "source": [
    "В качестве `context` берутся пары (название леммы, формулировка), где название леммы проходит по всем элементам в **args_names**."
   ]
  },
  {
   "cell_type": "markdown",
   "id": "5ac2ae3d",
   "metadata": {},
   "source": [
    "## Формирование файла с леммами для DPR retrieval"
   ]
  },
  {
   "cell_type": "code",
   "execution_count": 8,
   "id": "e926aa80",
   "metadata": {},
   "outputs": [],
   "source": [
    "import pandas as pd"
   ]
  },
  {
   "cell_type": "code",
   "execution_count": 9,
   "id": "893acff9",
   "metadata": {},
   "outputs": [],
   "source": [
    "lemmas_df = pd.DataFrame(lemmas.items(), columns=['id', 'text'])\n",
    "lemmas_df['title'] = lemmas_df['id']\n",
    "\n",
    "lemmas_df.to_csv(DATA_DIRECTORY / 'all_lemmas.tsv', index=None, sep='\\t')"
   ]
  },
  {
   "cell_type": "markdown",
   "id": "f7736005",
   "metadata": {},
   "source": [
    "## Нужная структура датасета"
   ]
  },
  {
   "cell_type": "code",
   "execution_count": 10,
   "id": "e320990b",
   "metadata": {},
   "outputs": [
    {
     "name": "stdout",
     "output_type": "stream",
     "text": [
      "\n",
      "[\n",
      "  {\n",
      "    \"question\": \"....\",\n",
      "    \"answers\": [\"...\", \"...\", \"...\"],\n",
      "    \"positive_ctxs\": [{\n",
      "        \"title\": \"...\",\n",
      "        \"text\": \"....\"\n",
      "    }],\n",
      "    \"negative_ctxs\": [\"...\"],\n",
      "    \"hard_negative_ctxs\": [\"...\"],\n",
      "    \"passage_id\": '...'\n",
      "  },\n",
      "  ...\n",
      "]\n",
      "\n",
      "\n"
     ]
    }
   ],
   "source": [
    "print(\"\"\"\n",
    "[\n",
    "  {\n",
    "    \"question\": \"....\",\n",
    "    \"answers\": [\"...\", \"...\", \"...\"],\n",
    "    \"positive_ctxs\": [{\n",
    "        \"title\": \"...\",\n",
    "        \"text\": \"....\"\n",
    "    }],\n",
    "    \"negative_ctxs\": [\"...\"],\n",
    "    \"hard_negative_ctxs\": [\"...\"],\n",
    "    \"passage_id\": '...'\n",
    "  },\n",
    "  ...\n",
    "]\n",
    "\n",
    "\"\"\")"
   ]
  },
  {
   "cell_type": "markdown",
   "id": "51608079",
   "metadata": {},
   "source": [
    "## Формируем датасет"
   ]
  },
  {
   "cell_type": "code",
   "execution_count": 11,
   "id": "e0dccd4b",
   "metadata": {},
   "outputs": [],
   "source": [
    "def make_data_example(line, all_lemmas):\n",
    "    question = line[\"goal\"]\n",
    "    positive_titles = line[\"args_names\"].split()\n",
    "    positive_statements = [all_lemmas[arg] for arg in positive_titles]\n",
    "\n",
    "    example = {\"question\": question,\n",
    "               \"positive_ctxs\": [{\"title\": title, \"text\": statement, \"passage_id\": title} \n",
    "                                 for title, statement in zip(positive_titles, positive_statements)],\n",
    "               \"negative_ctxs\": [],\n",
    "               \"hard_negative_ctxs\": []}\n",
    "    \n",
    "    if len(positive_titles) == 0:\n",
    "        example['positive_ctxs'] = [{'title': '<None>', 'text': '<None>', 'passage_id': '<None>'}]\n",
    "        \n",
    "    return example"
   ]
  },
  {
   "cell_type": "code",
   "execution_count": 12,
   "id": "8fd59325",
   "metadata": {},
   "outputs": [
    {
     "data": {
      "text/plain": [
       "{'question': \"α : Type u,\\n_inst_1 : inhabited α,\\ni b_fst : ℕ,\\nb_snd : array b_fst α,\\nh : i < buffer.size ⟨b_fst, b_snd⟩\\n⊢ buffer.read ⟨b_fst, b_snd⟩ ⟨i, h⟩ = buffer.read' ⟨b_fst, b_snd⟩ i\",\n",
       " 'positive_ctxs': [{'title': 'buffer.read',\n",
       "   'text': 'def read : Π (b : buffer α), fin b.size → α\\t| ⟨n, a⟩ i := a.read i',\n",
       "   'passage_id': 'buffer.read'},\n",
       "  {'title': \"buffer.read'\",\n",
       "   'text': \"def read' [inhabited α] : buffer α → nat → α\\t| ⟨n, a⟩ i := a.read' i\",\n",
       "   'passage_id': \"buffer.read'\"}],\n",
       " 'negative_ctxs': [],\n",
       " 'hard_negative_ctxs': []}"
      ]
     },
     "execution_count": 12,
     "metadata": {},
     "output_type": "execute_result"
    }
   ],
   "source": [
    "for i, line in ds[:1].iterrows():\n",
    "    example = make_data_example(line, lemmas)\n",
    "example"
   ]
  },
  {
   "cell_type": "code",
   "execution_count": 13,
   "id": "7accc341",
   "metadata": {},
   "outputs": [],
   "source": [
    "dataset_train = [make_data_example(line, lemmas) for _, line in ds[ds.split == 'train'].iterrows()]\n",
    "assert len(dataset_train) == len(ds[ds.split == 'train'])\n",
    "\n",
    "dataset_dev = [make_data_example(line, lemmas) for _, line in ds[ds.split == 'valid'].iterrows()]\n",
    "assert len(dataset_dev) == len(ds[ds.split == 'valid'])"
   ]
  },
  {
   "cell_type": "markdown",
   "id": "a26691fd",
   "metadata": {},
   "source": [
    "Проанализируем полученный датасет"
   ]
  },
  {
   "cell_type": "code",
   "execution_count": 14,
   "id": "bace21de",
   "metadata": {},
   "outputs": [],
   "source": [
    "import matplotlib.pyplot as plt\n",
    "%matplotlib inline"
   ]
  },
  {
   "cell_type": "code",
   "execution_count": 16,
   "id": "8f5c471d-827c-4aef-ba40-d3f9c5d60080",
   "metadata": {},
   "outputs": [
    {
     "data": {
      "text/plain": [
       "1     154299\n",
       "2      17170\n",
       "3       6813\n",
       "4       2903\n",
       "5       1440\n",
       "6        664\n",
       "7        378\n",
       "8        232\n",
       "9        108\n",
       "10        62\n",
       "12        42\n",
       "11        42\n",
       "13        22\n",
       "14        19\n",
       "15        15\n",
       "17        11\n",
       "18        10\n",
       "16         8\n",
       "19         6\n",
       "20         4\n",
       "21         3\n",
       "28         3\n",
       "22         2\n",
       "26         2\n",
       "33         2\n",
       "27         2\n",
       "23         2\n",
       "37         1\n",
       "65         1\n",
       "43         1\n",
       "60         1\n",
       "29         1\n",
       "45         1\n",
       "25         1\n",
       "74         1\n",
       "54         1\n",
       "dtype: int64"
      ]
     },
     "execution_count": 16,
     "metadata": {},
     "output_type": "execute_result"
    }
   ],
   "source": [
    "pd.Series([len(item['positive_ctxs']) for item in dataset_train]).value_counts()"
   ]
  },
  {
   "cell_type": "code",
   "execution_count": 17,
   "id": "6e6e4be8",
   "metadata": {},
   "outputs": [
    {
     "data": {
      "text/plain": [
       "[{'question': \"α : Type u,\\ni : ℕ,\\nv : α,\\nb_fst : ℕ,\\nb_snd : array b_fst α,\\nh : i < buffer.size ⟨b_fst, b_snd⟩\\n⊢ buffer.write ⟨b_fst, b_snd⟩ ⟨i, h⟩ v = buffer.write' ⟨b_fst, b_snd⟩ i v\",\n",
       "  'positive_ctxs': [{'title': 'buffer.write',\n",
       "    'text': 'def write : Π (b : buffer α), fin b.size → α → buffer α\\t| ⟨n, a⟩ i v := ⟨n, a.write i v⟩',\n",
       "    'passage_id': 'buffer.write'},\n",
       "   {'title': \"buffer.write'\",\n",
       "    'text': \"def write' : buffer α → nat → α → buffer α\\t| ⟨n, a⟩ i v := ⟨n, a.write' i v⟩\",\n",
       "    'passage_id': \"buffer.write'\"}],\n",
       "  'negative_ctxs': [],\n",
       "  'hard_negative_ctxs': []},\n",
       " {'question': \"α : Type u,\\ni : ℕ,\\nv : α,\\nb_fst : ℕ,\\nb_snd : array b_fst α,\\nh : i < buffer.size ⟨b_fst, b_snd⟩\\n⊢ ⟨b_fst, b_snd.write ⟨i, h⟩ v⟩ = ⟨b_fst, b_snd.write' i v⟩\",\n",
       "  'positive_ctxs': [{'title': \"array.write_eq_write'\",\n",
       "    'text': \"lemma write_eq_write' (a : array n α) {i : nat} (h : i < n) (v : α) : write a ⟨i, h⟩ v = write' a i v\",\n",
       "    'passage_id': \"array.write_eq_write'\"}],\n",
       "  'negative_ctxs': [],\n",
       "  'hard_negative_ctxs': []},\n",
       " {'question': \"α : Type u,\\nb : buffer α,\\ni : ℕ,\\nh : i < b.size,\\nv : α\\n⊢ b.write ⟨i, h⟩ v = b.write' i v\",\n",
       "  'positive_ctxs': [{'title': '<None>',\n",
       "    'text': '<None>',\n",
       "    'passage_id': '<None>'}],\n",
       "  'negative_ctxs': [],\n",
       "  'hard_negative_ctxs': []},\n",
       " {'question': 'α : Type,\\np : parser α\\n⊢ p.bind parser.pure = p',\n",
       "  'positive_ctxs': [{'title': 'funext',\n",
       "    'text': 'theorem funext {f₁ f₂ : Π x : α, β x} (h : ∀ x, f₁ x = f₂ x) : f₁ = f₂',\n",
       "    'passage_id': 'funext'}],\n",
       "  'negative_ctxs': [],\n",
       "  'hard_negative_ctxs': []},\n",
       " {'question': 'α : Type,\\np : parser α\\n⊢ ∀ (x : char_buffer), p.bind parser.pure x = p x',\n",
       "  'positive_ctxs': [{'title': '<None>',\n",
       "    'text': '<None>',\n",
       "    'passage_id': '<None>'}],\n",
       "  'negative_ctxs': [],\n",
       "  'hard_negative_ctxs': []}]"
      ]
     },
     "execution_count": 17,
     "metadata": {},
     "output_type": "execute_result"
    }
   ],
   "source": [
    "dataset_train[:5]"
   ]
  },
  {
   "cell_type": "markdown",
   "id": "600492c7",
   "metadata": {},
   "source": [
    "Сохраняем"
   ]
  },
  {
   "cell_type": "code",
   "execution_count": 19,
   "id": "bec7449a-59d3-4e1b-9d87-06255fd3dd61",
   "metadata": {},
   "outputs": [],
   "source": [
    "with jsonlines.open(DATA_DIRECTORY / 'lean-questions-train.json', mode='w') as f:\n",
    "    f.write(dataset_train)\n",
    "\n",
    "with jsonlines.open(DATA_DIRECTORY / 'lean-questions-dev.json', mode='w') as f:\n",
    "    f.write(dataset_dev)"
   ]
  },
  {
   "cell_type": "markdown",
   "id": "4d5734a9",
   "metadata": {},
   "source": [
    "Проверяем"
   ]
  },
  {
   "cell_type": "code",
   "execution_count": 29,
   "id": "a36c8364",
   "metadata": {},
   "outputs": [
    {
     "name": "stdout",
     "output_type": "stream",
     "text": [
      "184273\n"
     ]
    },
    {
     "data": {
      "text/plain": [
       "{'question': 'α : Type,\\np : parser α\\n⊢ ∀ (x : char_buffer), p.bind parser.pure x = p x',\n",
       " 'positive_ctxs': [{'title': '<None>',\n",
       "   'text': '<None>',\n",
       "   'passage_id': '<None>'}],\n",
       " 'negative_ctxs': [],\n",
       " 'hard_negative_ctxs': []}"
      ]
     },
     "execution_count": 29,
     "metadata": {},
     "output_type": "execute_result"
    }
   ],
   "source": [
    "print(len(dataset_train))\n",
    "dataset_train[4]"
   ]
  },
  {
   "cell_type": "markdown",
   "id": "bb81e066-1e8f-4bd5-9805-6d6a81848f5d",
   "metadata": {},
   "source": [
    "# Create datasets with no `<None>`'s in it"
   ]
  },
  {
   "cell_type": "code",
   "execution_count": 25,
   "id": "dc4626bb-e932-4f8b-9959-76d5f61d39d3",
   "metadata": {},
   "outputs": [
    {
     "name": "stdout",
     "output_type": "stream",
     "text": [
      "Initial dataset train size: 184273\n",
      "Dataset train size: 79111\n",
      "\n",
      "Initial dataset dev size: 8291\n",
      "Dataset dev size: 3533\n",
      "\n"
     ]
    }
   ],
   "source": [
    "for name, ds in zip(['train', 'dev'], [dataset_train, dataset_dev]):\n",
    "    dataset_no_none = []\n",
    "    for sample in ds:\n",
    "        if sample['positive_ctxs'][0]['title'] != '<None>':\n",
    "            dataset_no_none.append(sample)\n",
    "\n",
    "    print(f\"Initial dataset {name} size: {len(ds)}\")\n",
    "    print(f\"Dataset {name} size: {len(dataset_no_none)}\\n\")\n",
    "    with jsonlines.open(DATA_DIRECTORY / f'lean-questions-{name}-no-none.json', 'w') as f:\n",
    "        f.write(dataset_no_none)"
   ]
  },
  {
   "cell_type": "code",
   "execution_count": null,
   "id": "ab36654d-2e01-4b5e-97bd-74f6074f1590",
   "metadata": {},
   "outputs": [],
   "source": []
  },
  {
   "cell_type": "markdown",
   "id": "738ff6d1",
   "metadata": {},
   "source": [
    "### Создаем датасет, в котором все пары (параграф, лемма) на отдельной строке"
   ]
  },
  {
   "cell_type": "code",
   "execution_count": 30,
   "id": "cd7a09e0",
   "metadata": {},
   "outputs": [],
   "source": [
    "def create_one_line_data(data):\n",
    "    for i in range(len(data)):\n",
    "        if len(data[i]['positive_ctxs']) == 0:\n",
    "            data[i]['positive_ctxs'] = [{'title': '<None>', 'text': '<None>'}]\n",
    "\n",
    "    dataset_per_line = sum([[{'question': para['question'], \n",
    "                              'positive_ctxs': [context], \n",
    "                              'negative_ctxs': para['negative_ctxs'],\n",
    "                              'hard_negative_ctxs': para['hard_negative_ctxs']} \n",
    "                             for context in para['positive_ctxs']] \n",
    "                            for para in data], [])\n",
    "    \n",
    "    return dataset_per_line"
   ]
  },
  {
   "cell_type": "code",
   "execution_count": 31,
   "id": "d8c1f68b",
   "metadata": {},
   "outputs": [],
   "source": [
    "for mode in ['train', 'dev']:\n",
    "    with open(DATA_DIRECTORY / f'lean-questions-{mode}.json', \"r\") as f:\n",
    "        data = json.load(f)\n",
    "\n",
    "    one_line_data = create_one_line_data(data)\n",
    "\n",
    "    with jsonlines.open(DATA_DIRECTORY / f'lean-questions-one-lemma-{mode}.json', mode=\"w\") as f:\n",
    "        f.write(one_line_data)"
   ]
  },
  {
   "cell_type": "code",
   "execution_count": null,
   "id": "c307603e",
   "metadata": {},
   "outputs": [],
   "source": []
  }
 ],
 "metadata": {
  "kernelspec": {
   "display_name": "Python 3 (ipykernel)",
   "language": "python",
   "name": "python3"
  },
  "language_info": {
   "codemirror_mode": {
    "name": "ipython",
    "version": 3
   },
   "file_extension": ".py",
   "mimetype": "text/x-python",
   "name": "python",
   "nbconvert_exporter": "python",
   "pygments_lexer": "ipython3",
   "version": "3.9.16"
  }
 },
 "nbformat": 4,
 "nbformat_minor": 5
}
